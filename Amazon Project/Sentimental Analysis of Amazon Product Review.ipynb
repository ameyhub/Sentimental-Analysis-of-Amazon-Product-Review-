{
 "cells": [
  {
   "cell_type": "markdown",
   "metadata": {},
   "source": [
    "# <center><font color='color'>Sentimental Analysis of Amazon Product Review </font></center>"
   ]
  },
  {
   "cell_type": "markdown",
   "metadata": {},
   "source": [
    "## Packages"
   ]
  },
  {
   "cell_type": "code",
   "execution_count": 1,
   "metadata": {},
   "outputs": [],
   "source": [
    "import pandas as pd\n",
    "import matplotlib.pyplot as plt\n",
    "from matplotlib import style\n",
    "import numpy as np\n",
    "import seaborn as sns\n",
    "\n",
    "\n",
    "from sklearn import datasets\n",
    "from sklearn.model_selection import StratifiedShuffleSplit\n",
    "import math\n",
    "from sklearn.linear_model import LogisticRegression  #LogisticRegression\n",
    "\n",
    "\n",
    "from sklearn.pipeline import Pipeline                # Pipeline\n",
    "\n",
    "\n",
    "\n",
    "from sklearn.ensemble import RandomForestClassifier  #RandomForestClassifier \n",
    "from sklearn.svm import LinearSVC                    #LinearSVC\n",
    "from sklearn.model_selection import GridSearchCV\n",
    "from sklearn.metrics import classification_report\n",
    "from sklearn.metrics import accuracy_score\n",
    "from sklearn import metrics\n",
    "\n",
    "\n",
    "## NLP \n",
    "from sklearn.naive_bayes import MultinomialNB\n",
    "from sklearn.feature_extraction.text import TfidfTransformer\n",
    "from sklearn.feature_extraction.text import CountVectorizer\n",
    " \n",
    "\n",
    "\n",
    "\n",
    "import warnings\n",
    "warnings.filterwarnings('ignore') \n",
    "warnings.filterwarnings(\"ignore\", category=DeprecationWarning)\n",
    "warnings.filterwarnings(\"ignore\",category=UserWarning)\n",
    "sns.set_style(\"whitegrid\") \n",
    "\n",
    "%matplotlib inline\n",
    "np.random.seed(7) "
   ]
  },
  {
   "cell_type": "markdown",
   "metadata": {},
   "source": [
    "## Read CSV File By Pandas\n",
    "\n",
    "Dataset Link -  https://www.kaggle.com/datafiniti/consumer-reviews-of-amazon-products?select=Datafiniti_Amazon_Consumer_Reviews_of_Amazon_Products.csv"
   ]
  },
  {
   "cell_type": "code",
   "execution_count": 2,
   "metadata": {},
   "outputs": [
    {
     "data": {
      "text/html": [
       "<div>\n",
       "<style scoped>\n",
       "    .dataframe tbody tr th:only-of-type {\n",
       "        vertical-align: middle;\n",
       "    }\n",
       "\n",
       "    .dataframe tbody tr th {\n",
       "        vertical-align: top;\n",
       "    }\n",
       "\n",
       "    .dataframe thead th {\n",
       "        text-align: right;\n",
       "    }\n",
       "</style>\n",
       "<table border=\"1\" class=\"dataframe\">\n",
       "  <thead>\n",
       "    <tr style=\"text-align: right;\">\n",
       "      <th></th>\n",
       "      <th>id</th>\n",
       "      <th>dateAdded</th>\n",
       "      <th>dateUpdated</th>\n",
       "      <th>name</th>\n",
       "      <th>asins</th>\n",
       "      <th>brand</th>\n",
       "      <th>categories</th>\n",
       "      <th>primaryCategories</th>\n",
       "      <th>imageURLs</th>\n",
       "      <th>keys</th>\n",
       "      <th>...</th>\n",
       "      <th>reviews.dateSeen</th>\n",
       "      <th>reviews.doRecommend</th>\n",
       "      <th>reviews.id</th>\n",
       "      <th>reviews.numHelpful</th>\n",
       "      <th>reviews.rating</th>\n",
       "      <th>reviews.sourceURLs</th>\n",
       "      <th>reviews.text</th>\n",
       "      <th>reviews.title</th>\n",
       "      <th>reviews.username</th>\n",
       "      <th>sourceURLs</th>\n",
       "    </tr>\n",
       "  </thead>\n",
       "  <tbody>\n",
       "    <tr>\n",
       "      <th>0</th>\n",
       "      <td>AVqVGZNvQMlgsOJE6eUY</td>\n",
       "      <td>2017-03-03T16:56:05Z</td>\n",
       "      <td>2018-10-25T16:36:31Z</td>\n",
       "      <td>Amazon Kindle E-Reader 6\" Wifi (8th Generation...</td>\n",
       "      <td>B00ZV9PXP2</td>\n",
       "      <td>Amazon</td>\n",
       "      <td>Computers,Electronics Features,Tablets,Electro...</td>\n",
       "      <td>Electronics</td>\n",
       "      <td>https://pisces.bbystatic.com/image2/BestBuy_US...</td>\n",
       "      <td>allnewkindleereaderblack6glarefreetouchscreend...</td>\n",
       "      <td>...</td>\n",
       "      <td>2018-05-27T00:00:00Z,2017-09-18T00:00:00Z,2017...</td>\n",
       "      <td>False</td>\n",
       "      <td>NaN</td>\n",
       "      <td>0</td>\n",
       "      <td>3</td>\n",
       "      <td>http://reviews.bestbuy.com/3545/5442403/review...</td>\n",
       "      <td>I thought it would be as big as small paper bu...</td>\n",
       "      <td>Too small</td>\n",
       "      <td>llyyue</td>\n",
       "      <td>https://www.newegg.com/Product/Product.aspx%25...</td>\n",
       "    </tr>\n",
       "    <tr>\n",
       "      <th>1</th>\n",
       "      <td>AVqVGZNvQMlgsOJE6eUY</td>\n",
       "      <td>2017-03-03T16:56:05Z</td>\n",
       "      <td>2018-10-25T16:36:31Z</td>\n",
       "      <td>Amazon Kindle E-Reader 6\" Wifi (8th Generation...</td>\n",
       "      <td>B00ZV9PXP2</td>\n",
       "      <td>Amazon</td>\n",
       "      <td>Computers,Electronics Features,Tablets,Electro...</td>\n",
       "      <td>Electronics</td>\n",
       "      <td>https://pisces.bbystatic.com/image2/BestBuy_US...</td>\n",
       "      <td>allnewkindleereaderblack6glarefreetouchscreend...</td>\n",
       "      <td>...</td>\n",
       "      <td>2018-05-27T00:00:00Z,2017-07-07T00:00:00Z,2017...</td>\n",
       "      <td>True</td>\n",
       "      <td>NaN</td>\n",
       "      <td>0</td>\n",
       "      <td>5</td>\n",
       "      <td>http://reviews.bestbuy.com/3545/5442403/review...</td>\n",
       "      <td>This kindle is light and easy to use especiall...</td>\n",
       "      <td>Great light reader. Easy to use at the beach</td>\n",
       "      <td>Charmi</td>\n",
       "      <td>https://www.newegg.com/Product/Product.aspx%25...</td>\n",
       "    </tr>\n",
       "    <tr>\n",
       "      <th>2</th>\n",
       "      <td>AVqVGZNvQMlgsOJE6eUY</td>\n",
       "      <td>2017-03-03T16:56:05Z</td>\n",
       "      <td>2018-10-25T16:36:31Z</td>\n",
       "      <td>Amazon Kindle E-Reader 6\" Wifi (8th Generation...</td>\n",
       "      <td>B00ZV9PXP2</td>\n",
       "      <td>Amazon</td>\n",
       "      <td>Computers,Electronics Features,Tablets,Electro...</td>\n",
       "      <td>Electronics</td>\n",
       "      <td>https://pisces.bbystatic.com/image2/BestBuy_US...</td>\n",
       "      <td>allnewkindleereaderblack6glarefreetouchscreend...</td>\n",
       "      <td>...</td>\n",
       "      <td>2018-05-27T00:00:00Z</td>\n",
       "      <td>True</td>\n",
       "      <td>NaN</td>\n",
       "      <td>0</td>\n",
       "      <td>4</td>\n",
       "      <td>https://reviews.bestbuy.com/3545/5442403/revie...</td>\n",
       "      <td>Didnt know how much i'd use a kindle so went f...</td>\n",
       "      <td>Great for the price</td>\n",
       "      <td>johnnyjojojo</td>\n",
       "      <td>https://www.newegg.com/Product/Product.aspx%25...</td>\n",
       "    </tr>\n",
       "    <tr>\n",
       "      <th>3</th>\n",
       "      <td>AVqVGZNvQMlgsOJE6eUY</td>\n",
       "      <td>2017-03-03T16:56:05Z</td>\n",
       "      <td>2018-10-25T16:36:31Z</td>\n",
       "      <td>Amazon Kindle E-Reader 6\" Wifi (8th Generation...</td>\n",
       "      <td>B00ZV9PXP2</td>\n",
       "      <td>Amazon</td>\n",
       "      <td>Computers,Electronics Features,Tablets,Electro...</td>\n",
       "      <td>Electronics</td>\n",
       "      <td>https://pisces.bbystatic.com/image2/BestBuy_US...</td>\n",
       "      <td>allnewkindleereaderblack6glarefreetouchscreend...</td>\n",
       "      <td>...</td>\n",
       "      <td>2018-10-09T00:00:00Z</td>\n",
       "      <td>True</td>\n",
       "      <td>177283626.0</td>\n",
       "      <td>3</td>\n",
       "      <td>5</td>\n",
       "      <td>https://redsky.target.com/groot-domain-api/v1/...</td>\n",
       "      <td>I am 100 happy with my purchase. I caught it o...</td>\n",
       "      <td>A Great Buy</td>\n",
       "      <td>Kdperry</td>\n",
       "      <td>https://www.newegg.com/Product/Product.aspx%25...</td>\n",
       "    </tr>\n",
       "    <tr>\n",
       "      <th>4</th>\n",
       "      <td>AVqVGZNvQMlgsOJE6eUY</td>\n",
       "      <td>2017-03-03T16:56:05Z</td>\n",
       "      <td>2018-10-25T16:36:31Z</td>\n",
       "      <td>Amazon Kindle E-Reader 6\" Wifi (8th Generation...</td>\n",
       "      <td>B00ZV9PXP2</td>\n",
       "      <td>Amazon</td>\n",
       "      <td>Computers,Electronics Features,Tablets,Electro...</td>\n",
       "      <td>Electronics</td>\n",
       "      <td>https://pisces.bbystatic.com/image2/BestBuy_US...</td>\n",
       "      <td>allnewkindleereaderblack6glarefreetouchscreend...</td>\n",
       "      <td>...</td>\n",
       "      <td>2018-05-27T00:00:00Z</td>\n",
       "      <td>True</td>\n",
       "      <td>NaN</td>\n",
       "      <td>0</td>\n",
       "      <td>5</td>\n",
       "      <td>https://reviews.bestbuy.com/3545/5442403/revie...</td>\n",
       "      <td>Solid entry level Kindle. Great for kids. Gift...</td>\n",
       "      <td>Solid entry-level Kindle. Great for kids</td>\n",
       "      <td>Johnnyblack</td>\n",
       "      <td>https://www.newegg.com/Product/Product.aspx%25...</td>\n",
       "    </tr>\n",
       "    <tr>\n",
       "      <th>5</th>\n",
       "      <td>AVqVGZNvQMlgsOJE6eUY</td>\n",
       "      <td>2017-03-03T16:56:05Z</td>\n",
       "      <td>2018-10-25T16:36:31Z</td>\n",
       "      <td>Amazon Kindle E-Reader 6\" Wifi (8th Generation...</td>\n",
       "      <td>B00ZV9PXP2</td>\n",
       "      <td>Amazon</td>\n",
       "      <td>Computers,Electronics Features,Tablets,Electro...</td>\n",
       "      <td>Electronics</td>\n",
       "      <td>https://pisces.bbystatic.com/image2/BestBuy_US...</td>\n",
       "      <td>allnewkindleereaderblack6glarefreetouchscreend...</td>\n",
       "      <td>...</td>\n",
       "      <td>2018-05-27T00:00:00Z,2017-07-07T00:00:00Z,2017...</td>\n",
       "      <td>False</td>\n",
       "      <td>NaN</td>\n",
       "      <td>0</td>\n",
       "      <td>5</td>\n",
       "      <td>http://reviews.bestbuy.com/3545/5442403/review...</td>\n",
       "      <td>This make an excellent ebook reader. Don't exp...</td>\n",
       "      <td>Good ebook</td>\n",
       "      <td>rmwarriors</td>\n",
       "      <td>https://www.newegg.com/Product/Product.aspx%25...</td>\n",
       "    </tr>\n",
       "    <tr>\n",
       "      <th>6</th>\n",
       "      <td>AVqVGZNvQMlgsOJE6eUY</td>\n",
       "      <td>2017-03-03T16:56:05Z</td>\n",
       "      <td>2018-10-25T16:36:31Z</td>\n",
       "      <td>Amazon Kindle E-Reader 6\" Wifi (8th Generation...</td>\n",
       "      <td>B00ZV9PXP2</td>\n",
       "      <td>Amazon</td>\n",
       "      <td>Computers,Electronics Features,Tablets,Electro...</td>\n",
       "      <td>Electronics</td>\n",
       "      <td>https://pisces.bbystatic.com/image2/BestBuy_US...</td>\n",
       "      <td>allnewkindleereaderblack6glarefreetouchscreend...</td>\n",
       "      <td>...</td>\n",
       "      <td>2018-10-09T00:00:00Z</td>\n",
       "      <td>True</td>\n",
       "      <td>187043823.0</td>\n",
       "      <td>0</td>\n",
       "      <td>5</td>\n",
       "      <td>https://redsky.target.com/groot-domain-api/v1/...</td>\n",
       "      <td>I ordered this for my daughter, as I have the ...</td>\n",
       "      <td>Light Weight - Makes a world of difference whe...</td>\n",
       "      <td>LexieCrews</td>\n",
       "      <td>https://www.newegg.com/Product/Product.aspx%25...</td>\n",
       "    </tr>\n",
       "    <tr>\n",
       "      <th>7</th>\n",
       "      <td>AVqVGZNvQMlgsOJE6eUY</td>\n",
       "      <td>2017-03-03T16:56:05Z</td>\n",
       "      <td>2018-10-25T16:36:31Z</td>\n",
       "      <td>Amazon Kindle E-Reader 6\" Wifi (8th Generation...</td>\n",
       "      <td>B00ZV9PXP2</td>\n",
       "      <td>Amazon</td>\n",
       "      <td>Computers,Electronics Features,Tablets,Electro...</td>\n",
       "      <td>Electronics</td>\n",
       "      <td>https://pisces.bbystatic.com/image2/BestBuy_US...</td>\n",
       "      <td>allnewkindleereaderblack6glarefreetouchscreend...</td>\n",
       "      <td>...</td>\n",
       "      <td>2017-07-31T00:00:00Z,2017-07-26T00:00:00Z,2018...</td>\n",
       "      <td>False</td>\n",
       "      <td>NaN</td>\n",
       "      <td>0</td>\n",
       "      <td>4</td>\n",
       "      <td>http://reviews.bestbuy.com/3545/5442403/review...</td>\n",
       "      <td>I bought my Kindle about 2 months ago and the ...</td>\n",
       "      <td>not good quality</td>\n",
       "      <td>merry</td>\n",
       "      <td>https://www.newegg.com/Product/Product.aspx%25...</td>\n",
       "    </tr>\n",
       "    <tr>\n",
       "      <th>8</th>\n",
       "      <td>AVqVGZNvQMlgsOJE6eUY</td>\n",
       "      <td>2017-03-03T16:56:05Z</td>\n",
       "      <td>2018-10-25T16:36:31Z</td>\n",
       "      <td>Amazon Kindle E-Reader 6\" Wifi (8th Generation...</td>\n",
       "      <td>B00ZV9PXP2</td>\n",
       "      <td>Amazon</td>\n",
       "      <td>Computers,Electronics Features,Tablets,Electro...</td>\n",
       "      <td>Electronics</td>\n",
       "      <td>https://pisces.bbystatic.com/image2/BestBuy_US...</td>\n",
       "      <td>allnewkindleereaderblack6glarefreetouchscreend...</td>\n",
       "      <td>...</td>\n",
       "      <td>2018-05-26T00:00:00Z</td>\n",
       "      <td>True</td>\n",
       "      <td>NaN</td>\n",
       "      <td>0</td>\n",
       "      <td>5</td>\n",
       "      <td>https://reviews.bestbuy.com/3545/5442403/revie...</td>\n",
       "      <td>amazon kindle is always the best ebook, upgrad...</td>\n",
       "      <td>best ebook</td>\n",
       "      <td>STEF</td>\n",
       "      <td>https://www.newegg.com/Product/Product.aspx%25...</td>\n",
       "    </tr>\n",
       "    <tr>\n",
       "      <th>9</th>\n",
       "      <td>AVqVGZNvQMlgsOJE6eUY</td>\n",
       "      <td>2017-03-03T16:56:05Z</td>\n",
       "      <td>2018-10-25T16:36:31Z</td>\n",
       "      <td>Amazon Kindle E-Reader 6\" Wifi (8th Generation...</td>\n",
       "      <td>B00ZV9PXP2</td>\n",
       "      <td>Amazon</td>\n",
       "      <td>Computers,Electronics Features,Tablets,Electro...</td>\n",
       "      <td>Electronics</td>\n",
       "      <td>https://pisces.bbystatic.com/image2/BestBuy_US...</td>\n",
       "      <td>allnewkindleereaderblack6glarefreetouchscreend...</td>\n",
       "      <td>...</td>\n",
       "      <td>2018-05-27T00:00:00Z</td>\n",
       "      <td>True</td>\n",
       "      <td>NaN</td>\n",
       "      <td>0</td>\n",
       "      <td>5</td>\n",
       "      <td>https://reviews.bestbuy.com/3545/5442403/revie...</td>\n",
       "      <td>It's beyond my expectation, and it can even sh...</td>\n",
       "      <td>Great Product</td>\n",
       "      <td>AEBY</td>\n",
       "      <td>https://www.newegg.com/Product/Product.aspx%25...</td>\n",
       "    </tr>\n",
       "  </tbody>\n",
       "</table>\n",
       "<p>10 rows × 24 columns</p>\n",
       "</div>"
      ],
      "text/plain": [
       "                     id             dateAdded           dateUpdated  \\\n",
       "0  AVqVGZNvQMlgsOJE6eUY  2017-03-03T16:56:05Z  2018-10-25T16:36:31Z   \n",
       "1  AVqVGZNvQMlgsOJE6eUY  2017-03-03T16:56:05Z  2018-10-25T16:36:31Z   \n",
       "2  AVqVGZNvQMlgsOJE6eUY  2017-03-03T16:56:05Z  2018-10-25T16:36:31Z   \n",
       "3  AVqVGZNvQMlgsOJE6eUY  2017-03-03T16:56:05Z  2018-10-25T16:36:31Z   \n",
       "4  AVqVGZNvQMlgsOJE6eUY  2017-03-03T16:56:05Z  2018-10-25T16:36:31Z   \n",
       "5  AVqVGZNvQMlgsOJE6eUY  2017-03-03T16:56:05Z  2018-10-25T16:36:31Z   \n",
       "6  AVqVGZNvQMlgsOJE6eUY  2017-03-03T16:56:05Z  2018-10-25T16:36:31Z   \n",
       "7  AVqVGZNvQMlgsOJE6eUY  2017-03-03T16:56:05Z  2018-10-25T16:36:31Z   \n",
       "8  AVqVGZNvQMlgsOJE6eUY  2017-03-03T16:56:05Z  2018-10-25T16:36:31Z   \n",
       "9  AVqVGZNvQMlgsOJE6eUY  2017-03-03T16:56:05Z  2018-10-25T16:36:31Z   \n",
       "\n",
       "                                                name       asins   brand  \\\n",
       "0  Amazon Kindle E-Reader 6\" Wifi (8th Generation...  B00ZV9PXP2  Amazon   \n",
       "1  Amazon Kindle E-Reader 6\" Wifi (8th Generation...  B00ZV9PXP2  Amazon   \n",
       "2  Amazon Kindle E-Reader 6\" Wifi (8th Generation...  B00ZV9PXP2  Amazon   \n",
       "3  Amazon Kindle E-Reader 6\" Wifi (8th Generation...  B00ZV9PXP2  Amazon   \n",
       "4  Amazon Kindle E-Reader 6\" Wifi (8th Generation...  B00ZV9PXP2  Amazon   \n",
       "5  Amazon Kindle E-Reader 6\" Wifi (8th Generation...  B00ZV9PXP2  Amazon   \n",
       "6  Amazon Kindle E-Reader 6\" Wifi (8th Generation...  B00ZV9PXP2  Amazon   \n",
       "7  Amazon Kindle E-Reader 6\" Wifi (8th Generation...  B00ZV9PXP2  Amazon   \n",
       "8  Amazon Kindle E-Reader 6\" Wifi (8th Generation...  B00ZV9PXP2  Amazon   \n",
       "9  Amazon Kindle E-Reader 6\" Wifi (8th Generation...  B00ZV9PXP2  Amazon   \n",
       "\n",
       "                                          categories primaryCategories  \\\n",
       "0  Computers,Electronics Features,Tablets,Electro...       Electronics   \n",
       "1  Computers,Electronics Features,Tablets,Electro...       Electronics   \n",
       "2  Computers,Electronics Features,Tablets,Electro...       Electronics   \n",
       "3  Computers,Electronics Features,Tablets,Electro...       Electronics   \n",
       "4  Computers,Electronics Features,Tablets,Electro...       Electronics   \n",
       "5  Computers,Electronics Features,Tablets,Electro...       Electronics   \n",
       "6  Computers,Electronics Features,Tablets,Electro...       Electronics   \n",
       "7  Computers,Electronics Features,Tablets,Electro...       Electronics   \n",
       "8  Computers,Electronics Features,Tablets,Electro...       Electronics   \n",
       "9  Computers,Electronics Features,Tablets,Electro...       Electronics   \n",
       "\n",
       "                                           imageURLs  \\\n",
       "0  https://pisces.bbystatic.com/image2/BestBuy_US...   \n",
       "1  https://pisces.bbystatic.com/image2/BestBuy_US...   \n",
       "2  https://pisces.bbystatic.com/image2/BestBuy_US...   \n",
       "3  https://pisces.bbystatic.com/image2/BestBuy_US...   \n",
       "4  https://pisces.bbystatic.com/image2/BestBuy_US...   \n",
       "5  https://pisces.bbystatic.com/image2/BestBuy_US...   \n",
       "6  https://pisces.bbystatic.com/image2/BestBuy_US...   \n",
       "7  https://pisces.bbystatic.com/image2/BestBuy_US...   \n",
       "8  https://pisces.bbystatic.com/image2/BestBuy_US...   \n",
       "9  https://pisces.bbystatic.com/image2/BestBuy_US...   \n",
       "\n",
       "                                                keys  ...  \\\n",
       "0  allnewkindleereaderblack6glarefreetouchscreend...  ...   \n",
       "1  allnewkindleereaderblack6glarefreetouchscreend...  ...   \n",
       "2  allnewkindleereaderblack6glarefreetouchscreend...  ...   \n",
       "3  allnewkindleereaderblack6glarefreetouchscreend...  ...   \n",
       "4  allnewkindleereaderblack6glarefreetouchscreend...  ...   \n",
       "5  allnewkindleereaderblack6glarefreetouchscreend...  ...   \n",
       "6  allnewkindleereaderblack6glarefreetouchscreend...  ...   \n",
       "7  allnewkindleereaderblack6glarefreetouchscreend...  ...   \n",
       "8  allnewkindleereaderblack6glarefreetouchscreend...  ...   \n",
       "9  allnewkindleereaderblack6glarefreetouchscreend...  ...   \n",
       "\n",
       "                                    reviews.dateSeen reviews.doRecommend  \\\n",
       "0  2018-05-27T00:00:00Z,2017-09-18T00:00:00Z,2017...               False   \n",
       "1  2018-05-27T00:00:00Z,2017-07-07T00:00:00Z,2017...                True   \n",
       "2                               2018-05-27T00:00:00Z                True   \n",
       "3                               2018-10-09T00:00:00Z                True   \n",
       "4                               2018-05-27T00:00:00Z                True   \n",
       "5  2018-05-27T00:00:00Z,2017-07-07T00:00:00Z,2017...               False   \n",
       "6                               2018-10-09T00:00:00Z                True   \n",
       "7  2017-07-31T00:00:00Z,2017-07-26T00:00:00Z,2018...               False   \n",
       "8                               2018-05-26T00:00:00Z                True   \n",
       "9                               2018-05-27T00:00:00Z                True   \n",
       "\n",
       "    reviews.id reviews.numHelpful reviews.rating  \\\n",
       "0          NaN                  0              3   \n",
       "1          NaN                  0              5   \n",
       "2          NaN                  0              4   \n",
       "3  177283626.0                  3              5   \n",
       "4          NaN                  0              5   \n",
       "5          NaN                  0              5   \n",
       "6  187043823.0                  0              5   \n",
       "7          NaN                  0              4   \n",
       "8          NaN                  0              5   \n",
       "9          NaN                  0              5   \n",
       "\n",
       "                                  reviews.sourceURLs  \\\n",
       "0  http://reviews.bestbuy.com/3545/5442403/review...   \n",
       "1  http://reviews.bestbuy.com/3545/5442403/review...   \n",
       "2  https://reviews.bestbuy.com/3545/5442403/revie...   \n",
       "3  https://redsky.target.com/groot-domain-api/v1/...   \n",
       "4  https://reviews.bestbuy.com/3545/5442403/revie...   \n",
       "5  http://reviews.bestbuy.com/3545/5442403/review...   \n",
       "6  https://redsky.target.com/groot-domain-api/v1/...   \n",
       "7  http://reviews.bestbuy.com/3545/5442403/review...   \n",
       "8  https://reviews.bestbuy.com/3545/5442403/revie...   \n",
       "9  https://reviews.bestbuy.com/3545/5442403/revie...   \n",
       "\n",
       "                                        reviews.text  \\\n",
       "0  I thought it would be as big as small paper bu...   \n",
       "1  This kindle is light and easy to use especiall...   \n",
       "2  Didnt know how much i'd use a kindle so went f...   \n",
       "3  I am 100 happy with my purchase. I caught it o...   \n",
       "4  Solid entry level Kindle. Great for kids. Gift...   \n",
       "5  This make an excellent ebook reader. Don't exp...   \n",
       "6  I ordered this for my daughter, as I have the ...   \n",
       "7  I bought my Kindle about 2 months ago and the ...   \n",
       "8  amazon kindle is always the best ebook, upgrad...   \n",
       "9  It's beyond my expectation, and it can even sh...   \n",
       "\n",
       "                                       reviews.title  reviews.username  \\\n",
       "0                                          Too small            llyyue   \n",
       "1       Great light reader. Easy to use at the beach            Charmi   \n",
       "2                                Great for the price      johnnyjojojo   \n",
       "3                                        A Great Buy           Kdperry   \n",
       "4           Solid entry-level Kindle. Great for kids       Johnnyblack   \n",
       "5                                         Good ebook        rmwarriors   \n",
       "6  Light Weight - Makes a world of difference whe...        LexieCrews   \n",
       "7                                   not good quality             merry   \n",
       "8                                         best ebook              STEF   \n",
       "9                                      Great Product              AEBY   \n",
       "\n",
       "                                          sourceURLs  \n",
       "0  https://www.newegg.com/Product/Product.aspx%25...  \n",
       "1  https://www.newegg.com/Product/Product.aspx%25...  \n",
       "2  https://www.newegg.com/Product/Product.aspx%25...  \n",
       "3  https://www.newegg.com/Product/Product.aspx%25...  \n",
       "4  https://www.newegg.com/Product/Product.aspx%25...  \n",
       "5  https://www.newegg.com/Product/Product.aspx%25...  \n",
       "6  https://www.newegg.com/Product/Product.aspx%25...  \n",
       "7  https://www.newegg.com/Product/Product.aspx%25...  \n",
       "8  https://www.newegg.com/Product/Product.aspx%25...  \n",
       "9  https://www.newegg.com/Product/Product.aspx%25...  \n",
       "\n",
       "[10 rows x 24 columns]"
      ]
     },
     "execution_count": 2,
     "metadata": {},
     "output_type": "execute_result"
    }
   ],
   "source": [
    "df = pd.read_csv(\"Amazon Product Review.csv\")\n",
    "df.head(10)"
   ]
  },
  {
   "cell_type": "markdown",
   "metadata": {},
   "source": [
    "## Data Analysis Part \n",
    "\n",
    "### ***pandas.copy() method is used to copy a data and some changes are made in the new data. The changes are then compared to old data.***"
   ]
  },
  {
   "cell_type": "code",
   "execution_count": 3,
   "metadata": {
    "scrolled": true
   },
   "outputs": [
    {
     "data": {
      "text/html": [
       "<div>\n",
       "<style scoped>\n",
       "    .dataframe tbody tr th:only-of-type {\n",
       "        vertical-align: middle;\n",
       "    }\n",
       "\n",
       "    .dataframe tbody tr th {\n",
       "        vertical-align: top;\n",
       "    }\n",
       "\n",
       "    .dataframe thead th {\n",
       "        text-align: right;\n",
       "    }\n",
       "</style>\n",
       "<table border=\"1\" class=\"dataframe\">\n",
       "  <thead>\n",
       "    <tr style=\"text-align: right;\">\n",
       "      <th></th>\n",
       "      <th>reviews.id</th>\n",
       "      <th>reviews.numHelpful</th>\n",
       "      <th>reviews.rating</th>\n",
       "    </tr>\n",
       "  </thead>\n",
       "  <tbody>\n",
       "    <tr>\n",
       "      <th>count</th>\n",
       "      <td>2.900000e+01</td>\n",
       "      <td>5000.000000</td>\n",
       "      <td>5000.000000</td>\n",
       "    </tr>\n",
       "    <tr>\n",
       "      <th>mean</th>\n",
       "      <td>1.858740e+08</td>\n",
       "      <td>0.312400</td>\n",
       "      <td>4.596800</td>\n",
       "    </tr>\n",
       "    <tr>\n",
       "      <th>std</th>\n",
       "      <td>2.084040e+07</td>\n",
       "      <td>3.111582</td>\n",
       "      <td>0.731804</td>\n",
       "    </tr>\n",
       "    <tr>\n",
       "      <th>min</th>\n",
       "      <td>1.082112e+08</td>\n",
       "      <td>0.000000</td>\n",
       "      <td>1.000000</td>\n",
       "    </tr>\n",
       "    <tr>\n",
       "      <th>25%</th>\n",
       "      <td>1.851185e+08</td>\n",
       "      <td>0.000000</td>\n",
       "      <td>4.000000</td>\n",
       "    </tr>\n",
       "    <tr>\n",
       "      <th>50%</th>\n",
       "      <td>1.880757e+08</td>\n",
       "      <td>0.000000</td>\n",
       "      <td>5.000000</td>\n",
       "    </tr>\n",
       "    <tr>\n",
       "      <th>75%</th>\n",
       "      <td>1.981949e+08</td>\n",
       "      <td>0.000000</td>\n",
       "      <td>5.000000</td>\n",
       "    </tr>\n",
       "    <tr>\n",
       "      <th>max</th>\n",
       "      <td>2.027812e+08</td>\n",
       "      <td>105.000000</td>\n",
       "      <td>5.000000</td>\n",
       "    </tr>\n",
       "  </tbody>\n",
       "</table>\n",
       "</div>"
      ],
      "text/plain": [
       "         reviews.id  reviews.numHelpful  reviews.rating\n",
       "count  2.900000e+01         5000.000000     5000.000000\n",
       "mean   1.858740e+08            0.312400        4.596800\n",
       "std    2.084040e+07            3.111582        0.731804\n",
       "min    1.082112e+08            0.000000        1.000000\n",
       "25%    1.851185e+08            0.000000        4.000000\n",
       "50%    1.880757e+08            0.000000        5.000000\n",
       "75%    1.981949e+08            0.000000        5.000000\n",
       "max    2.027812e+08          105.000000        5.000000"
      ]
     },
     "execution_count": 3,
     "metadata": {},
     "output_type": "execute_result"
    }
   ],
   "source": [
    "data = df.copy()\n",
    "data.describe()"
   ]
  },
  {
   "cell_type": "code",
   "execution_count": 4,
   "metadata": {},
   "outputs": [
    {
     "data": {
      "text/plain": [
       "array(['B00ZV9PXP2', 'B010CEHQTG', 'B01J24C0TI', 'B01N32NCPM',\n",
       "       'B06XB29FPF', 'B00QFQRELG', 'B018Y22C2Y', 'B017JG41PC',\n",
       "       'B018Y22BI4', 'B018Y23MNM', 'B01AHBBG04', 'B01AHBDCKQ',\n",
       "       'B01BH83OOM', 'B0189XYY0Q', 'B00VINDBJK', 'B00IOY8XWQ',\n",
       "       'B01AHB9CN2', 'B018Y225IA', 'B00IOYAM4I', 'B01AHB9C1E',\n",
       "       'B00REQKWGA', 'B01ACEKAJY', 'B01AHB9CYG', 'B018Y224PY'],\n",
       "      dtype=object)"
      ]
     },
     "execution_count": 4,
     "metadata": {},
     "output_type": "execute_result"
    }
   ],
   "source": [
    "data[\"asins\"].unique()"
   ]
  },
  {
   "cell_type": "code",
   "execution_count": 5,
   "metadata": {},
   "outputs": [
    {
     "name": "stdout",
     "output_type": "stream",
     "text": [
      "<class 'pandas.core.frame.DataFrame'>\n",
      "RangeIndex: 5000 entries, 0 to 4999\n",
      "Data columns (total 24 columns):\n",
      " #   Column               Non-Null Count  Dtype  \n",
      "---  ------               --------------  -----  \n",
      " 0   id                   5000 non-null   object \n",
      " 1   dateAdded            5000 non-null   object \n",
      " 2   dateUpdated          5000 non-null   object \n",
      " 3   name                 5000 non-null   object \n",
      " 4   asins                5000 non-null   object \n",
      " 5   brand                5000 non-null   object \n",
      " 6   categories           5000 non-null   object \n",
      " 7   primaryCategories    5000 non-null   object \n",
      " 8   imageURLs            5000 non-null   object \n",
      " 9   keys                 5000 non-null   object \n",
      " 10  manufacturer         5000 non-null   object \n",
      " 11  manufacturerNumber   5000 non-null   object \n",
      " 12  reviews.date         5000 non-null   object \n",
      " 13  reviews.dateAdded    1052 non-null   object \n",
      " 14  reviews.dateSeen     5000 non-null   object \n",
      " 15  reviews.doRecommend  5000 non-null   bool   \n",
      " 16  reviews.id           29 non-null     float64\n",
      " 17  reviews.numHelpful   5000 non-null   int64  \n",
      " 18  reviews.rating       5000 non-null   int64  \n",
      " 19  reviews.sourceURLs   5000 non-null   object \n",
      " 20  reviews.text         5000 non-null   object \n",
      " 21  reviews.title        4987 non-null   object \n",
      " 22  reviews.username     5000 non-null   object \n",
      " 23  sourceURLs           5000 non-null   object \n",
      "dtypes: bool(1), float64(1), int64(2), object(20)\n",
      "memory usage: 903.4+ KB\n"
     ]
    }
   ],
   "source": [
    "data.info()"
   ]
  },
  {
   "cell_type": "code",
   "execution_count": 6,
   "metadata": {},
   "outputs": [
    {
     "data": {
      "text/plain": [
       "<seaborn.axisgrid.FacetGrid at 0x21a5e2ff208>"
      ]
     },
     "execution_count": 6,
     "metadata": {},
     "output_type": "execute_result"
    },
    {
     "data": {
      "image/png": "[encoded data removed]",
      "text/plain": [
       "<Figure size 430.125x360 with 1 Axes>"
      ]
     },
     "metadata": {},
     "output_type": "display_data"
    }
   ],
   "source": [
    "\n",
    "sns.set_style('whitegrid')   ## Background Grid\n",
    "sns.FacetGrid(df, hue = 'reviews.rating', size = 5).map(plt.scatter, 'reviews.rating', 'reviews.numHelpful').add_legend()"
   ]
  },
  {
   "cell_type": "code",
   "execution_count": 7,
   "metadata": {},
   "outputs": [
    {
     "data": {
      "text/plain": [
       "<matplotlib.axes._subplots.AxesSubplot at 0x21a5e682988>"
      ]
     },
     "execution_count": 7,
     "metadata": {},
     "output_type": "execute_result"
    },
    {
     "data": {
      "image/png": "[encoded data removed]",
      "text/plain": [
       "<Figure size 432x288 with 1 Axes>"
      ]
     },
     "metadata": {},
     "output_type": "display_data"
    }
   ],
   "source": [
    "sns.countplot(data=df, x = 'reviews.rating', label='Count') "
   ]
  },
  {
   "cell_type": "markdown",
   "metadata": {},
   "source": [
    "## Asins (Amazon Standard Identification Number) unique id of the items Computers,Electronics Features,Tablets etc"
   ]
  },
  {
   "cell_type": "code",
   "execution_count": 8,
   "metadata": {},
   "outputs": [
    {
     "name": "stdout",
     "output_type": "stream",
     "text": [
      "Number of Unique ASINs: 24\n"
     ]
    }
   ],
   "source": [
    "asins_unique = len(data[\"asins\"].unique()) \n",
    "print(\"Number of Unique ASINs: \" + str(asins_unique))"
   ]
  },
  {
   "cell_type": "code",
   "execution_count": 9,
   "metadata": {},
   "outputs": [
    {
     "name": "stdout",
     "output_type": "stream",
     "text": [
      "0       Amazon Kindle E-Reader 6\" Wifi (8th Generation...\n",
      "1       Amazon Kindle E-Reader 6\" Wifi (8th Generation...\n",
      "2       Amazon Kindle E-Reader 6\" Wifi (8th Generation...\n",
      "3       Amazon Kindle E-Reader 6\" Wifi (8th Generation...\n",
      "4       Amazon Kindle E-Reader 6\" Wifi (8th Generation...\n",
      "                              ...                        \n",
      "4995    Fire Tablet with Alexa, 7\" Display, 16 GB, Mag...\n",
      "4996    Fire Tablet with Alexa, 7\" Display, 16 GB, Mag...\n",
      "4997    Fire Tablet with Alexa, 7\" Display, 16 GB, Mag...\n",
      "4998    Fire Tablet with Alexa, 7\" Display, 16 GB, Mag...\n",
      "4999    Fire Tablet with Alexa, 7\" Display, 16 GB, Mag...\n",
      "Name: name, Length: 5000, dtype: object\n"
     ]
    }
   ],
   "source": [
    "print(data['name'])"
   ]
  },
  {
   "cell_type": "code",
   "execution_count": 10,
   "metadata": {},
   "outputs": [
    {
     "name": "stdout",
     "output_type": "stream",
     "text": [
      "0       Amazon\n",
      "1       Amazon\n",
      "2       Amazon\n",
      "3       Amazon\n",
      "4       Amazon\n",
      "         ...  \n",
      "4995    Amazon\n",
      "4996    Amazon\n",
      "4997    Amazon\n",
      "4998    Amazon\n",
      "4999    Amazon\n",
      "Name: brand, Length: 5000, dtype: object\n"
     ]
    }
   ],
   "source": [
    "print(data['brand'])"
   ]
  },
  {
   "cell_type": "code",
   "execution_count": 11,
   "metadata": {},
   "outputs": [
    {
     "name": "stdout",
     "output_type": "stream",
     "text": [
      "0                                          Too small\n",
      "1       Great light reader. Easy to use at the beach\n",
      "2                                Great for the price\n",
      "3                                        A Great Buy\n",
      "4           Solid entry-level Kindle. Great for kids\n",
      "                            ...                     \n",
      "4995                                    Good product\n",
      "4996                                    Great Tablet\n",
      "4997                 Great for kids or smaller needs\n",
      "4998                    Very sturdy for a 5 year old\n",
      "4999                             great little tablet\n",
      "Name: reviews.title, Length: 5000, dtype: object\n"
     ]
    }
   ],
   "source": [
    "print(data['reviews.title'])"
   ]
  },
  {
   "cell_type": "markdown",
   "metadata": {},
   "source": [
    "## Split into Train/Test"
   ]
  },
  {
   "cell_type": "code",
   "execution_count": 12,
   "metadata": {},
   "outputs": [
    {
     "name": "stdout",
     "output_type": "stream",
     "text": [
      "Before 5000\n",
      "After 5000\n"
     ]
    }
   ],
   "source": [
    "print(\"Before {}\".format(len(data)))\n",
    "dataAfter = data.dropna(subset=[\"reviews.rating\"]) \n",
    "print(\"After {}\".format(len(dataAfter)))\n",
    "dataAfter[\"reviews.rating\"] = dataAfter[\"reviews.rating\"].astype(int)"
   ]
  },
  {
   "cell_type": "code",
   "execution_count": 13,
   "metadata": {},
   "outputs": [],
   "source": [
    "split = StratifiedShuffleSplit(n_splits=5, test_size=0.2)\n",
    "for train_index, test_index in split.split(dataAfter, dataAfter[\"reviews.rating\"]): \n",
    "    strat_train = dataAfter.reindex(train_index)\n",
    "    strat_test = dataAfter.reindex(test_index)"
   ]
  },
  {
   "cell_type": "code",
   "execution_count": 14,
   "metadata": {},
   "outputs": [
    {
     "data": {
      "text/plain": [
       "(4000, 1000)"
      ]
     },
     "execution_count": 14,
     "metadata": {},
     "output_type": "execute_result"
    }
   ],
   "source": [
    "len(strat_train), len(strat_test)\n"
   ]
  },
  {
   "cell_type": "code",
   "execution_count": 15,
   "metadata": {},
   "outputs": [
    {
     "data": {
      "text/plain": [
       "5    0.69575\n",
       "4    0.24150\n",
       "3    0.03950\n",
       "1    0.01250\n",
       "2    0.01075\n",
       "Name: reviews.rating, dtype: float64"
      ]
     },
     "execution_count": 15,
     "metadata": {},
     "output_type": "execute_result"
    }
   ],
   "source": [
    "strat_train[\"reviews.rating\"].value_counts()/len(strat_train)"
   ]
  },
  {
   "cell_type": "markdown",
   "metadata": {},
   "source": [
    "## Data Exploration (Training Set) [cleanning of data]"
   ]
  },
  {
   "cell_type": "code",
   "execution_count": 16,
   "metadata": {},
   "outputs": [
    {
     "data": {
      "text/html": [
       "<div>\n",
       "<style scoped>\n",
       "    .dataframe tbody tr th:only-of-type {\n",
       "        vertical-align: middle;\n",
       "    }\n",
       "\n",
       "    .dataframe tbody tr th {\n",
       "        vertical-align: top;\n",
       "    }\n",
       "\n",
       "    .dataframe thead th {\n",
       "        text-align: right;\n",
       "    }\n",
       "</style>\n",
       "<table border=\"1\" class=\"dataframe\">\n",
       "  <thead>\n",
       "    <tr style=\"text-align: right;\">\n",
       "      <th></th>\n",
       "      <th>id</th>\n",
       "      <th>dateAdded</th>\n",
       "      <th>dateUpdated</th>\n",
       "      <th>name</th>\n",
       "      <th>asins</th>\n",
       "      <th>brand</th>\n",
       "      <th>categories</th>\n",
       "      <th>primaryCategories</th>\n",
       "      <th>imageURLs</th>\n",
       "      <th>keys</th>\n",
       "      <th>...</th>\n",
       "      <th>reviews.dateSeen</th>\n",
       "      <th>reviews.doRecommend</th>\n",
       "      <th>reviews.id</th>\n",
       "      <th>reviews.numHelpful</th>\n",
       "      <th>reviews.rating</th>\n",
       "      <th>reviews.sourceURLs</th>\n",
       "      <th>reviews.text</th>\n",
       "      <th>reviews.title</th>\n",
       "      <th>reviews.username</th>\n",
       "      <th>sourceURLs</th>\n",
       "    </tr>\n",
       "  </thead>\n",
       "  <tbody>\n",
       "    <tr>\n",
       "      <th>2555</th>\n",
       "      <td>AVpgdkC8ilAPnD_xsvyi</td>\n",
       "      <td>2016-04-10T22:00:34Z</td>\n",
       "      <td>2018-09-21T18:45:21Z</td>\n",
       "      <td>Fire Tablet, 7 Display, Wi-Fi, 16 GB - Include...</td>\n",
       "      <td>B018Y22BI4</td>\n",
       "      <td>Amazon</td>\n",
       "      <td>Fire Tablets,Computers/Tablets &amp; Networking,Ta...</td>\n",
       "      <td>Electronics</td>\n",
       "      <td>http://i.ebayimg.com/thumbs/images/g/3MIAAOSwo...</td>\n",
       "      <td>amazonfire16gb5thgen2015releaseblack/272201222...</td>\n",
       "      <td>...</td>\n",
       "      <td>2017-09-03T00:00:00Z,2017-08-27T00:00:00Z,2017...</td>\n",
       "      <td>True</td>\n",
       "      <td>NaN</td>\n",
       "      <td>0</td>\n",
       "      <td>5</td>\n",
       "      <td>http://reviews.bestbuy.com/3545/5023200/review...</td>\n",
       "      <td>Bought this to carry around for Internet and g...</td>\n",
       "      <td>1st time user</td>\n",
       "      <td>Lakle</td>\n",
       "      <td>http://reviews.bestbuy.com/3545/5023200/review...</td>\n",
       "    </tr>\n",
       "    <tr>\n",
       "      <th>4118</th>\n",
       "      <td>AVqkIhwDv8e3D1O-lebb</td>\n",
       "      <td>2017-03-06T14:59:43Z</td>\n",
       "      <td>2018-02-13T21:53:06Z</td>\n",
       "      <td>All-New Fire HD 8 Tablet, 8\" HD Display, Wi-Fi...</td>\n",
       "      <td>B01AHB9CN2</td>\n",
       "      <td>Amazon</td>\n",
       "      <td>Electronics,iPad &amp; Tablets,All Tablets,Fire Ta...</td>\n",
       "      <td>Electronics</td>\n",
       "      <td>https://i5.walmartimages.com/asr/c494506a-b347...</td>\n",
       "      <td>841667104676,amazon/53004484,amazon/b01ahb9cn2...</td>\n",
       "      <td>...</td>\n",
       "      <td>2017-06-07T09:03:00.000Z</td>\n",
       "      <td>True</td>\n",
       "      <td>NaN</td>\n",
       "      <td>0</td>\n",
       "      <td>5</td>\n",
       "      <td>http://reviews.bestbuy.com/3545/5620406/review...</td>\n",
       "      <td>I bought this tab for my daughter's birthday.i...</td>\n",
       "      <td>Awesome little tab!</td>\n",
       "      <td>Maggie</td>\n",
       "      <td>http://www.walmart.com/ip/All-New-Fire-HD-8-Ta...</td>\n",
       "    </tr>\n",
       "    <tr>\n",
       "      <th>807</th>\n",
       "      <td>AWK8z0pOIwln0LfXlSxH</td>\n",
       "      <td>2018-04-13T02:03:15Z</td>\n",
       "      <td>2018-10-15T15:46:03Z</td>\n",
       "      <td>Amazon Echo Show Alexa-enabled Bluetooth Speak...</td>\n",
       "      <td>B01J24C0TI</td>\n",
       "      <td>Amazon</td>\n",
       "      <td>Amazon Echo,Virtual Assistant Speakers,Electro...</td>\n",
       "      <td>Electronics,Hardware</td>\n",
       "      <td>https://pisces.bbystatic.com/image2/BestBuy_US...</td>\n",
       "      <td>amazonechoshowsmartspeakerwithalexablack/58756...</td>\n",
       "      <td>...</td>\n",
       "      <td>2018-05-27T00:00:00Z</td>\n",
       "      <td>True</td>\n",
       "      <td>NaN</td>\n",
       "      <td>0</td>\n",
       "      <td>5</td>\n",
       "      <td>https://reviews.bestbuy.com/3545/5875662/revie...</td>\n",
       "      <td>Great product and it is very easy to set up an...</td>\n",
       "      <td>love it</td>\n",
       "      <td>tc13</td>\n",
       "      <td>https://reviews.bestbuy.com/3545/5875662/revie...</td>\n",
       "    </tr>\n",
       "    <tr>\n",
       "      <th>4170</th>\n",
       "      <td>AVqkIhwDv8e3D1O-lebb</td>\n",
       "      <td>2017-03-06T14:59:43Z</td>\n",
       "      <td>2018-02-13T21:53:06Z</td>\n",
       "      <td>All-New Fire HD 8 Tablet, 8\" HD Display, Wi-Fi...</td>\n",
       "      <td>B01AHB9CN2</td>\n",
       "      <td>Amazon</td>\n",
       "      <td>Electronics,iPad &amp; Tablets,All Tablets,Fire Ta...</td>\n",
       "      <td>Electronics</td>\n",
       "      <td>https://i5.walmartimages.com/asr/c494506a-b347...</td>\n",
       "      <td>841667104676,amazon/53004484,amazon/b01ahb9cn2...</td>\n",
       "      <td>...</td>\n",
       "      <td>2017-06-07T09:03:00.000Z</td>\n",
       "      <td>True</td>\n",
       "      <td>NaN</td>\n",
       "      <td>0</td>\n",
       "      <td>5</td>\n",
       "      <td>http://reviews.bestbuy.com/3545/5620406/review...</td>\n",
       "      <td>This screen on the hd8 is a huge improvement o...</td>\n",
       "      <td>Great hd screen</td>\n",
       "      <td>julio</td>\n",
       "      <td>http://www.walmart.com/ip/All-New-Fire-HD-8-Ta...</td>\n",
       "    </tr>\n",
       "    <tr>\n",
       "      <th>983</th>\n",
       "      <td>AWMjT0WguC1rwyj_rFh3</td>\n",
       "      <td>2018-05-02T14:01:51Z</td>\n",
       "      <td>2018-09-21T19:44:16Z</td>\n",
       "      <td>Amazon - Echo Plus w/ Built-In Hub - Silver</td>\n",
       "      <td>B06XB29FPF</td>\n",
       "      <td>Amazon</td>\n",
       "      <td>Amazon Echo,Smart Home,Networking,Home &amp; Tools...</td>\n",
       "      <td>Electronics,Hardware</td>\n",
       "      <td>https://pisces.bbystatic.com/image2/BestBuy_US...</td>\n",
       "      <td>amazonamazonechoplussmartspeakerwithalexaphili...</td>\n",
       "      <td>...</td>\n",
       "      <td>2018-04-26T00:00:00Z</td>\n",
       "      <td>True</td>\n",
       "      <td>NaN</td>\n",
       "      <td>0</td>\n",
       "      <td>5</td>\n",
       "      <td>https://reviews.bestbuy.com/3545/6036024/revie...</td>\n",
       "      <td>bought this as a present for the wife, but as ...</td>\n",
       "      <td>like a personal concierge</td>\n",
       "      <td>classicman</td>\n",
       "      <td>https://www.newegg.com/Product/Product.aspx%25...</td>\n",
       "    </tr>\n",
       "  </tbody>\n",
       "</table>\n",
       "<p>5 rows × 24 columns</p>\n",
       "</div>"
      ],
      "text/plain": [
       "                        id             dateAdded           dateUpdated  \\\n",
       "2555  AVpgdkC8ilAPnD_xsvyi  2016-04-10T22:00:34Z  2018-09-21T18:45:21Z   \n",
       "4118  AVqkIhwDv8e3D1O-lebb  2017-03-06T14:59:43Z  2018-02-13T21:53:06Z   \n",
       "807   AWK8z0pOIwln0LfXlSxH  2018-04-13T02:03:15Z  2018-10-15T15:46:03Z   \n",
       "4170  AVqkIhwDv8e3D1O-lebb  2017-03-06T14:59:43Z  2018-02-13T21:53:06Z   \n",
       "983   AWMjT0WguC1rwyj_rFh3  2018-05-02T14:01:51Z  2018-09-21T19:44:16Z   \n",
       "\n",
       "                                                   name       asins   brand  \\\n",
       "2555  Fire Tablet, 7 Display, Wi-Fi, 16 GB - Include...  B018Y22BI4  Amazon   \n",
       "4118  All-New Fire HD 8 Tablet, 8\" HD Display, Wi-Fi...  B01AHB9CN2  Amazon   \n",
       "807   Amazon Echo Show Alexa-enabled Bluetooth Speak...  B01J24C0TI  Amazon   \n",
       "4170  All-New Fire HD 8 Tablet, 8\" HD Display, Wi-Fi...  B01AHB9CN2  Amazon   \n",
       "983         Amazon - Echo Plus w/ Built-In Hub - Silver  B06XB29FPF  Amazon   \n",
       "\n",
       "                                             categories     primaryCategories  \\\n",
       "2555  Fire Tablets,Computers/Tablets & Networking,Ta...           Electronics   \n",
       "4118  Electronics,iPad & Tablets,All Tablets,Fire Ta...           Electronics   \n",
       "807   Amazon Echo,Virtual Assistant Speakers,Electro...  Electronics,Hardware   \n",
       "4170  Electronics,iPad & Tablets,All Tablets,Fire Ta...           Electronics   \n",
       "983   Amazon Echo,Smart Home,Networking,Home & Tools...  Electronics,Hardware   \n",
       "\n",
       "                                              imageURLs  \\\n",
       "2555  http://i.ebayimg.com/thumbs/images/g/3MIAAOSwo...   \n",
       "4118  https://i5.walmartimages.com/asr/c494506a-b347...   \n",
       "807   https://pisces.bbystatic.com/image2/BestBuy_US...   \n",
       "4170  https://i5.walmartimages.com/asr/c494506a-b347...   \n",
       "983   https://pisces.bbystatic.com/image2/BestBuy_US...   \n",
       "\n",
       "                                                   keys  ...  \\\n",
       "2555  amazonfire16gb5thgen2015releaseblack/272201222...  ...   \n",
       "4118  841667104676,amazon/53004484,amazon/b01ahb9cn2...  ...   \n",
       "807   amazonechoshowsmartspeakerwithalexablack/58756...  ...   \n",
       "4170  841667104676,amazon/53004484,amazon/b01ahb9cn2...  ...   \n",
       "983   amazonamazonechoplussmartspeakerwithalexaphili...  ...   \n",
       "\n",
       "                                       reviews.dateSeen reviews.doRecommend  \\\n",
       "2555  2017-09-03T00:00:00Z,2017-08-27T00:00:00Z,2017...                True   \n",
       "4118                           2017-06-07T09:03:00.000Z                True   \n",
       "807                                2018-05-27T00:00:00Z                True   \n",
       "4170                           2017-06-07T09:03:00.000Z                True   \n",
       "983                                2018-04-26T00:00:00Z                True   \n",
       "\n",
       "     reviews.id reviews.numHelpful reviews.rating  \\\n",
       "2555        NaN                  0              5   \n",
       "4118        NaN                  0              5   \n",
       "807         NaN                  0              5   \n",
       "4170        NaN                  0              5   \n",
       "983         NaN                  0              5   \n",
       "\n",
       "                                     reviews.sourceURLs  \\\n",
       "2555  http://reviews.bestbuy.com/3545/5023200/review...   \n",
       "4118  http://reviews.bestbuy.com/3545/5620406/review...   \n",
       "807   https://reviews.bestbuy.com/3545/5875662/revie...   \n",
       "4170  http://reviews.bestbuy.com/3545/5620406/review...   \n",
       "983   https://reviews.bestbuy.com/3545/6036024/revie...   \n",
       "\n",
       "                                           reviews.text  \\\n",
       "2555  Bought this to carry around for Internet and g...   \n",
       "4118  I bought this tab for my daughter's birthday.i...   \n",
       "807   Great product and it is very easy to set up an...   \n",
       "4170  This screen on the hd8 is a huge improvement o...   \n",
       "983   bought this as a present for the wife, but as ...   \n",
       "\n",
       "                  reviews.title  reviews.username  \\\n",
       "2555              1st time user             Lakle   \n",
       "4118        Awesome little tab!            Maggie   \n",
       "807                     love it              tc13   \n",
       "4170            Great hd screen             julio   \n",
       "983   like a personal concierge        classicman   \n",
       "\n",
       "                                             sourceURLs  \n",
       "2555  http://reviews.bestbuy.com/3545/5023200/review...  \n",
       "4118  http://www.walmart.com/ip/All-New-Fire-HD-8-Ta...  \n",
       "807   https://reviews.bestbuy.com/3545/5875662/revie...  \n",
       "4170  http://www.walmart.com/ip/All-New-Fire-HD-8-Ta...  \n",
       "983   https://www.newegg.com/Product/Product.aspx%25...  \n",
       "\n",
       "[5 rows x 24 columns]"
      ]
     },
     "execution_count": 16,
     "metadata": {},
     "output_type": "execute_result"
    }
   ],
   "source": [
    "reviews = strat_train.copy()\n",
    "reviews.head()"
   ]
  },
  {
   "cell_type": "code",
   "execution_count": 17,
   "metadata": {},
   "outputs": [
    {
     "name": "stdout",
     "output_type": "stream",
     "text": [
      "<class 'pandas.core.frame.DataFrame'>\n",
      "Int64Index: 4000 entries, 2555 to 4562\n",
      "Data columns (total 24 columns):\n",
      " #   Column               Non-Null Count  Dtype  \n",
      "---  ------               --------------  -----  \n",
      " 0   id                   4000 non-null   object \n",
      " 1   dateAdded            4000 non-null   object \n",
      " 2   dateUpdated          4000 non-null   object \n",
      " 3   name                 4000 non-null   object \n",
      " 4   asins                4000 non-null   object \n",
      " 5   brand                4000 non-null   object \n",
      " 6   categories           4000 non-null   object \n",
      " 7   primaryCategories    4000 non-null   object \n",
      " 8   imageURLs            4000 non-null   object \n",
      " 9   keys                 4000 non-null   object \n",
      " 10  manufacturer         4000 non-null   object \n",
      " 11  manufacturerNumber   4000 non-null   object \n",
      " 12  reviews.date         4000 non-null   object \n",
      " 13  reviews.dateAdded    838 non-null    object \n",
      " 14  reviews.dateSeen     4000 non-null   object \n",
      " 15  reviews.doRecommend  4000 non-null   bool   \n",
      " 16  reviews.id           25 non-null     float64\n",
      " 17  reviews.numHelpful   4000 non-null   int64  \n",
      " 18  reviews.rating       4000 non-null   int32  \n",
      " 19  reviews.sourceURLs   4000 non-null   object \n",
      " 20  reviews.text         4000 non-null   object \n",
      " 21  reviews.title        3989 non-null   object \n",
      " 22  reviews.username     4000 non-null   object \n",
      " 23  sourceURLs           4000 non-null   object \n",
      "dtypes: bool(1), float64(1), int32(1), int64(1), object(20)\n",
      "memory usage: 738.3+ KB\n"
     ]
    }
   ],
   "source": [
    "reviews.info()"
   ]
  },
  {
   "cell_type": "code",
   "execution_count": 18,
   "metadata": {},
   "outputs": [
    {
     "data": {
      "text/plain": [
       "(23, 24)"
      ]
     },
     "execution_count": 18,
     "metadata": {},
     "output_type": "execute_result"
    }
   ],
   "source": [
    "len(reviews[\"name\"].unique()), len(reviews[\"asins\"].unique())"
   ]
  },
  {
   "cell_type": "code",
   "execution_count": 19,
   "metadata": {},
   "outputs": [
    {
     "data": {
      "text/plain": [
       "asins\n",
       "B00IOY8XWQ          [Amazon - Kindle Voyage - 6\" - 4GB - Black]\n",
       "B00IOYAM4I    [Amazon - Kindle Voyage - 4GB - Wi-Fi + 3G - B...\n",
       "B00QFQRELG    [Amazon 9W PowerFast Official OEM USB Charger ...\n",
       "B00REQKWGA    [Kindle Oasis E-reader with Leather Charging C...\n",
       "B00VINDBJK    [Kindle Oasis E-reader with Leather Charging C...\n",
       "B00ZV9PXP2    [Amazon Kindle E-Reader 6\" Wifi (8th Generatio...\n",
       "B010CEHQTG    [Amazon Echo Show Alexa-enabled Bluetooth Spea...\n",
       "B017JG41PC    [Kindle E-reader - White, 6 Glare-Free Touchsc...\n",
       "B0189XYY0Q    [Fire HD 10 Tablet, 10.1 HD Display, Wi-Fi, 16...\n",
       "B018Y224PY    [Fire Tablet with Alexa, 7\" Display, 16 GB, Ma...\n",
       "B018Y225IA    [Brand New Amazon Kindle Fire 16gb 7\" Ips Disp...\n",
       "B018Y22BI4    [Fire Tablet, 7 Display, Wi-Fi, 16 GB - Includ...\n",
       "B018Y22C2Y    [Fire Kids Edition Tablet, 7 Display, Wi-Fi, 1...\n",
       "B018Y23MNM    [Fire Kids Edition Tablet, 7 Display, Wi-Fi, 1...\n",
       "B01ACEKAJY    [All-New Fire HD 8 Tablet, 8\" HD Display, Wi-F...\n",
       "B01AHB9C1E    [Fire HD 8 Tablet with Alexa, 8\" HD Display, 3...\n",
       "B01AHB9CN2    [All-New Fire HD 8 Tablet, 8\" HD Display, Wi-F...\n",
       "B01AHB9CYG    [All-New Fire HD 8 Tablet, 8\" HD Display, Wi-F...\n",
       "B01AHBBG04    [All-New Fire HD 8 Tablet, 8 HD Display, Wi-Fi...\n",
       "B01AHBDCKQ    [All-New Fire HD 8 Tablet, 8 HD Display, Wi-Fi...\n",
       "B01BH83OOM    [Amazon Tap - Alexa-Enabled Portable Bluetooth...\n",
       "B01J24C0TI    [Amazon Echo Show Alexa-enabled Bluetooth Spea...\n",
       "B01N32NCPM    [Amazon Fire TV with 4K Ultra HD and Alexa Voi...\n",
       "B06XB29FPF        [Amazon - Echo Plus w/ Built-In Hub - Silver]\n",
       "Name: name, dtype: object"
      ]
     },
     "execution_count": 19,
     "metadata": {},
     "output_type": "execute_result"
    }
   ],
   "source": [
    "reviews.groupby('asins')['name'].unique()"
   ]
  },
  {
   "cell_type": "code",
   "execution_count": 20,
   "metadata": {},
   "outputs": [],
   "source": [
    "different_name = reviews[reviews['asins'] == \"B018Y225IA,B01AHBDCKQ\"][\"name\"].unique()\n",
    "for name in different_name:\n",
    "    print(name)"
   ]
  },
  {
   "cell_type": "code",
   "execution_count": 21,
   "metadata": {},
   "outputs": [
    {
     "data": {
      "text/plain": [
       "Series([], Name: name, dtype: int64)"
      ]
     },
     "execution_count": 21,
     "metadata": {},
     "output_type": "execute_result"
    }
   ],
   "source": [
    "reviews[reviews['asins'] == \"B018Y225IA,B01AHBDCKQ\"][\"name\"].value_counts()"
   ]
  },
  {
   "cell_type": "code",
   "execution_count": 22,
   "metadata": {},
   "outputs": [
    {
     "data": {
      "image/png": "[encoded data removed]",
      "text/plain": [
       "<Figure size 1152x720 with 2 Axes>"
      ]
     },
     "metadata": {},
     "output_type": "display_data"
    }
   ],
   "source": [
    "fig = plt.figure(figsize=(16,10))\n",
    "ax1 = plt.subplot(211)\n",
    "ax2 = plt.subplot(212, sharex = ax1)\n",
    "\n",
    "\n",
    "## 1\n",
    "reviews[\"asins\"].value_counts().plot(kind=\"bar\", ax=ax1, title=\"ASIN Frequency\")\n",
    "\n",
    "\n",
    "##2\n",
    "np.log10(reviews[\"asins\"].value_counts()).plot(kind=\"bar\", ax=ax2, title=\"ASIN Frequency (Log10 Adjusted)\") \n",
    "plt.show() "
   ]
  },
  {
   "cell_type": "markdown",
   "metadata": {},
   "source": [
    "#### Entire training dataset average rating"
   ]
  },
  {
   "cell_type": "code",
   "execution_count": 23,
   "metadata": {},
   "outputs": [
    {
     "data": {
      "text/plain": [
       "4.59725"
      ]
     },
     "execution_count": 23,
     "metadata": {},
     "output_type": "execute_result"
    }
   ],
   "source": [
    "reviews[\"reviews.rating\"].mean()"
   ]
  },
  {
   "cell_type": "markdown",
   "metadata": {},
   "source": [
    "### Review.Rating / ASINs"
   ]
  },
  {
   "cell_type": "code",
   "execution_count": 24,
   "metadata": {
    "scrolled": false
   },
   "outputs": [
    {
     "data": {
      "image/png": "[encoded data removed]",
      "text/plain": [
       "<Figure size 1152x864 with 2 Axes>"
      ]
     },
     "metadata": {},
     "output_type": "display_data"
    }
   ],
   "source": [
    "asins_count_ix= reviews['asins'].value_counts().index\n",
    "\n",
    "plt.subplots(2,1,figsize=(16,12))\n",
    "plt.subplot(2,1,1)\n",
    "\n",
    "reviews[\"asins\"].value_counts().plot(kind=\"bar\", title=\"ASIN Frequency\")\n",
    "\n",
    "plt.subplot(2,1,2)\n",
    "sns.pointplot(x=\"asins\", y=\"reviews.rating\", order=asins_count_ix, data=reviews)\n",
    "plt.xticks(rotation=90)\n",
    "plt.show()"
   ]
  },
  {
   "cell_type": "markdown",
   "metadata": {},
   "source": [
    "## Correlations"
   ]
  },
  {
   "cell_type": "markdown",
   "metadata": {},
   "source": [
    "#### Here we can analyze reviews.ratings with asins"
   ]
  },
  {
   "cell_type": "code",
   "execution_count": 25,
   "metadata": {
    "scrolled": false
   },
   "outputs": [
    {
     "data": {
      "text/html": [
       "<div>\n",
       "<style scoped>\n",
       "    .dataframe tbody tr th:only-of-type {\n",
       "        vertical-align: middle;\n",
       "    }\n",
       "\n",
       "    .dataframe tbody tr th {\n",
       "        vertical-align: top;\n",
       "    }\n",
       "\n",
       "    .dataframe thead th {\n",
       "        text-align: right;\n",
       "    }\n",
       "</style>\n",
       "<table border=\"1\" class=\"dataframe\">\n",
       "  <thead>\n",
       "    <tr style=\"text-align: right;\">\n",
       "      <th></th>\n",
       "      <th>reviews.doRecommend</th>\n",
       "      <th>reviews.id</th>\n",
       "      <th>reviews.numHelpful</th>\n",
       "      <th>reviews.rating</th>\n",
       "    </tr>\n",
       "  </thead>\n",
       "  <tbody>\n",
       "    <tr>\n",
       "      <th>reviews.doRecommend</th>\n",
       "      <td>1.000000</td>\n",
       "      <td>0.597526</td>\n",
       "      <td>-0.058380</td>\n",
       "      <td>0.646972</td>\n",
       "    </tr>\n",
       "    <tr>\n",
       "      <th>reviews.id</th>\n",
       "      <td>0.597526</td>\n",
       "      <td>1.000000</td>\n",
       "      <td>-0.746694</td>\n",
       "      <td>0.801587</td>\n",
       "    </tr>\n",
       "    <tr>\n",
       "      <th>reviews.numHelpful</th>\n",
       "      <td>-0.058380</td>\n",
       "      <td>-0.746694</td>\n",
       "      <td>1.000000</td>\n",
       "      <td>-0.070335</td>\n",
       "    </tr>\n",
       "    <tr>\n",
       "      <th>reviews.rating</th>\n",
       "      <td>0.646972</td>\n",
       "      <td>0.801587</td>\n",
       "      <td>-0.070335</td>\n",
       "      <td>1.000000</td>\n",
       "    </tr>\n",
       "  </tbody>\n",
       "</table>\n",
       "</div>"
      ],
      "text/plain": [
       "                     reviews.doRecommend  reviews.id  reviews.numHelpful  \\\n",
       "reviews.doRecommend             1.000000    0.597526           -0.058380   \n",
       "reviews.id                      0.597526    1.000000           -0.746694   \n",
       "reviews.numHelpful             -0.058380   -0.746694            1.000000   \n",
       "reviews.rating                  0.646972    0.801587           -0.070335   \n",
       "\n",
       "                     reviews.rating  \n",
       "reviews.doRecommend        0.646972  \n",
       "reviews.id                 0.801587  \n",
       "reviews.numHelpful        -0.070335  \n",
       "reviews.rating             1.000000  "
      ]
     },
     "execution_count": 25,
     "metadata": {},
     "output_type": "execute_result"
    }
   ],
   "source": [
    "corr_matrix = reviews.corr()\n",
    "corr_matrix "
   ]
  },
  {
   "cell_type": "code",
   "execution_count": 26,
   "metadata": {},
   "outputs": [
    {
     "name": "stdout",
     "output_type": "stream",
     "text": [
      "<class 'pandas.core.frame.DataFrame'>\n",
      "Int64Index: 4000 entries, 2555 to 4562\n",
      "Data columns (total 24 columns):\n",
      " #   Column               Non-Null Count  Dtype  \n",
      "---  ------               --------------  -----  \n",
      " 0   id                   4000 non-null   object \n",
      " 1   dateAdded            4000 non-null   object \n",
      " 2   dateUpdated          4000 non-null   object \n",
      " 3   name                 4000 non-null   object \n",
      " 4   asins                4000 non-null   object \n",
      " 5   brand                4000 non-null   object \n",
      " 6   categories           4000 non-null   object \n",
      " 7   primaryCategories    4000 non-null   object \n",
      " 8   imageURLs            4000 non-null   object \n",
      " 9   keys                 4000 non-null   object \n",
      " 10  manufacturer         4000 non-null   object \n",
      " 11  manufacturerNumber   4000 non-null   object \n",
      " 12  reviews.date         4000 non-null   object \n",
      " 13  reviews.dateAdded    838 non-null    object \n",
      " 14  reviews.dateSeen     4000 non-null   object \n",
      " 15  reviews.doRecommend  4000 non-null   bool   \n",
      " 16  reviews.id           25 non-null     float64\n",
      " 17  reviews.numHelpful   4000 non-null   int64  \n",
      " 18  reviews.rating       4000 non-null   int32  \n",
      " 19  reviews.sourceURLs   4000 non-null   object \n",
      " 20  reviews.text         4000 non-null   object \n",
      " 21  reviews.title        3989 non-null   object \n",
      " 22  reviews.username     4000 non-null   object \n",
      " 23  sourceURLs           4000 non-null   object \n",
      "dtypes: bool(1), float64(1), int32(1), int64(1), object(20)\n",
      "memory usage: 898.3+ KB\n"
     ]
    }
   ],
   "source": [
    "reviews.info()"
   ]
  },
  {
   "cell_type": "code",
   "execution_count": 27,
   "metadata": {},
   "outputs": [
    {
     "data": {
      "text/html": [
       "<div>\n",
       "<style scoped>\n",
       "    .dataframe tbody tr th:only-of-type {\n",
       "        vertical-align: middle;\n",
       "    }\n",
       "\n",
       "    .dataframe tbody tr th {\n",
       "        vertical-align: top;\n",
       "    }\n",
       "\n",
       "    .dataframe thead th {\n",
       "        text-align: right;\n",
       "    }\n",
       "</style>\n",
       "<table border=\"1\" class=\"dataframe\">\n",
       "  <thead>\n",
       "    <tr style=\"text-align: right;\">\n",
       "      <th></th>\n",
       "      <th>asins</th>\n",
       "    </tr>\n",
       "  </thead>\n",
       "  <tbody>\n",
       "    <tr>\n",
       "      <th>B01AHB9CN2</th>\n",
       "      <td>632</td>\n",
       "    </tr>\n",
       "    <tr>\n",
       "      <th>B010CEHQTG</th>\n",
       "      <td>507</td>\n",
       "    </tr>\n",
       "    <tr>\n",
       "      <th>B06XB29FPF</th>\n",
       "      <td>469</td>\n",
       "    </tr>\n",
       "    <tr>\n",
       "      <th>B018Y22C2Y</th>\n",
       "      <td>451</td>\n",
       "    </tr>\n",
       "    <tr>\n",
       "      <th>B018Y225IA</th>\n",
       "      <td>380</td>\n",
       "    </tr>\n",
       "  </tbody>\n",
       "</table>\n",
       "</div>"
      ],
      "text/plain": [
       "            asins\n",
       "B01AHB9CN2    632\n",
       "B010CEHQTG    507\n",
       "B06XB29FPF    469\n",
       "B018Y22C2Y    451\n",
       "B018Y225IA    380"
      ]
     },
     "execution_count": 27,
     "metadata": {},
     "output_type": "execute_result"
    }
   ],
   "source": [
    "counts = reviews['asins'].value_counts().to_frame()\n",
    "counts.head()"
   ]
  },
  {
   "cell_type": "code",
   "execution_count": 28,
   "metadata": {
    "scrolled": true
   },
   "outputs": [
    {
     "data": {
      "text/html": [
       "<div>\n",
       "<style scoped>\n",
       "    .dataframe tbody tr th:only-of-type {\n",
       "        vertical-align: middle;\n",
       "    }\n",
       "\n",
       "    .dataframe tbody tr th {\n",
       "        vertical-align: top;\n",
       "    }\n",
       "\n",
       "    .dataframe thead th {\n",
       "        text-align: right;\n",
       "    }\n",
       "</style>\n",
       "<table border=\"1\" class=\"dataframe\">\n",
       "  <thead>\n",
       "    <tr style=\"text-align: right;\">\n",
       "      <th></th>\n",
       "      <th>reviews.rating</th>\n",
       "    </tr>\n",
       "    <tr>\n",
       "      <th>asins</th>\n",
       "      <th></th>\n",
       "    </tr>\n",
       "  </thead>\n",
       "  <tbody>\n",
       "    <tr>\n",
       "      <th>B00IOY8XWQ</th>\n",
       "      <td>4.701493</td>\n",
       "    </tr>\n",
       "    <tr>\n",
       "      <th>B00IOYAM4I</th>\n",
       "      <td>4.875000</td>\n",
       "    </tr>\n",
       "    <tr>\n",
       "      <th>B00QFQRELG</th>\n",
       "      <td>4.850000</td>\n",
       "    </tr>\n",
       "    <tr>\n",
       "      <th>B00REQKWGA</th>\n",
       "      <td>4.758621</td>\n",
       "    </tr>\n",
       "    <tr>\n",
       "      <th>B00VINDBJK</th>\n",
       "      <td>4.600000</td>\n",
       "    </tr>\n",
       "  </tbody>\n",
       "</table>\n",
       "</div>"
      ],
      "text/plain": [
       "            reviews.rating\n",
       "asins                     \n",
       "B00IOY8XWQ        4.701493\n",
       "B00IOYAM4I        4.875000\n",
       "B00QFQRELG        4.850000\n",
       "B00REQKWGA        4.758621\n",
       "B00VINDBJK        4.600000"
      ]
     },
     "execution_count": 28,
     "metadata": {},
     "output_type": "execute_result"
    }
   ],
   "source": [
    "avg_rating = reviews.groupby(\"asins\")[\"reviews.rating\"].mean().to_frame()\n",
    "avg_rating.head()"
   ]
  },
  {
   "cell_type": "code",
   "execution_count": 29,
   "metadata": {},
   "outputs": [
    {
     "data": {
      "text/html": [
       "<div>\n",
       "<style scoped>\n",
       "    .dataframe tbody tr th:only-of-type {\n",
       "        vertical-align: middle;\n",
       "    }\n",
       "\n",
       "    .dataframe tbody tr th {\n",
       "        vertical-align: top;\n",
       "    }\n",
       "\n",
       "    .dataframe thead th {\n",
       "        text-align: right;\n",
       "    }\n",
       "</style>\n",
       "<table border=\"1\" class=\"dataframe\">\n",
       "  <thead>\n",
       "    <tr style=\"text-align: right;\">\n",
       "      <th></th>\n",
       "      <th>asins</th>\n",
       "      <th>reviews.rating</th>\n",
       "    </tr>\n",
       "  </thead>\n",
       "  <tbody>\n",
       "    <tr>\n",
       "      <th>B01AHB9CN2</th>\n",
       "      <td>632</td>\n",
       "      <td>4.598101</td>\n",
       "    </tr>\n",
       "    <tr>\n",
       "      <th>B010CEHQTG</th>\n",
       "      <td>507</td>\n",
       "      <td>4.700197</td>\n",
       "    </tr>\n",
       "    <tr>\n",
       "      <th>B06XB29FPF</th>\n",
       "      <td>469</td>\n",
       "      <td>4.756930</td>\n",
       "    </tr>\n",
       "    <tr>\n",
       "      <th>B018Y22C2Y</th>\n",
       "      <td>451</td>\n",
       "      <td>4.560976</td>\n",
       "    </tr>\n",
       "    <tr>\n",
       "      <th>B018Y225IA</th>\n",
       "      <td>380</td>\n",
       "      <td>4.492105</td>\n",
       "    </tr>\n",
       "  </tbody>\n",
       "</table>\n",
       "</div>"
      ],
      "text/plain": [
       "            asins  reviews.rating\n",
       "B01AHB9CN2    632        4.598101\n",
       "B010CEHQTG    507        4.700197\n",
       "B06XB29FPF    469        4.756930\n",
       "B018Y22C2Y    451        4.560976\n",
       "B018Y225IA    380        4.492105"
      ]
     },
     "execution_count": 29,
     "metadata": {},
     "output_type": "execute_result"
    }
   ],
   "source": [
    "table = counts.join(avg_rating)\n",
    "table.head()"
   ]
  },
  {
   "cell_type": "code",
   "execution_count": 30,
   "metadata": {},
   "outputs": [
    {
     "data": {
      "text/html": [
       "<div>\n",
       "<style scoped>\n",
       "    .dataframe tbody tr th:only-of-type {\n",
       "        vertical-align: middle;\n",
       "    }\n",
       "\n",
       "    .dataframe tbody tr th {\n",
       "        vertical-align: top;\n",
       "    }\n",
       "\n",
       "    .dataframe thead th {\n",
       "        text-align: right;\n",
       "    }\n",
       "</style>\n",
       "<table border=\"1\" class=\"dataframe\">\n",
       "  <thead>\n",
       "    <tr style=\"text-align: right;\">\n",
       "      <th></th>\n",
       "      <th>asins</th>\n",
       "      <th>reviews.rating</th>\n",
       "    </tr>\n",
       "  </thead>\n",
       "  <tbody>\n",
       "    <tr>\n",
       "      <th>asins</th>\n",
       "      <td>1.000000</td>\n",
       "      <td>-0.163983</td>\n",
       "    </tr>\n",
       "    <tr>\n",
       "      <th>reviews.rating</th>\n",
       "      <td>-0.163983</td>\n",
       "      <td>1.000000</td>\n",
       "    </tr>\n",
       "  </tbody>\n",
       "</table>\n",
       "</div>"
      ],
      "text/plain": [
       "                   asins  reviews.rating\n",
       "asins           1.000000       -0.163983\n",
       "reviews.rating -0.163983        1.000000"
      ]
     },
     "execution_count": 30,
     "metadata": {},
     "output_type": "execute_result"
    },
    {
     "data": {
      "image/png": "[encoded data removed]",
      "text/plain": [
       "<Figure size 432x288 with 1 Axes>"
      ]
     },
     "metadata": {},
     "output_type": "display_data"
    }
   ],
   "source": [
    "plt.scatter(\"asins\", \"reviews.rating\", data=table)\n",
    "table.corr()"
   ]
  },
  {
   "cell_type": "markdown",
   "metadata": {},
   "source": [
    "# SENTIMENTAL ANALYSIS "
   ]
  },
  {
   "cell_type": "markdown",
   "metadata": {},
   "source": [
    "### Set Target Variable (Sentiments)"
   ]
  },
  {
   "cell_type": "code",
   "execution_count": 31,
   "metadata": {},
   "outputs": [
    {
     "data": {
      "text/plain": [
       "2555    Positive\n",
       "4118    Positive\n",
       "807     Positive\n",
       "4170    Positive\n",
       "983     Positive\n",
       "861      Neutral\n",
       "1985    Positive\n",
       "1674    Positive\n",
       "4276    Positive\n",
       "3031    Positive\n",
       "4167    Positive\n",
       "2683    Positive\n",
       "4866    Positive\n",
       "3565    Positive\n",
       "4451    Positive\n",
       "3412    Positive\n",
       "1374    Positive\n",
       "3344    Positive\n",
       "2754    Positive\n",
       "2537    Positive\n",
       "Name: Sentiment, dtype: object"
      ]
     },
     "execution_count": 31,
     "metadata": {},
     "output_type": "execute_result"
    }
   ],
   "source": [
    "def sentiments(rating):\n",
    "    if (rating == 5) or (rating == 4):\n",
    "        return \"Positive\"\n",
    "    elif rating == 3:\n",
    "        return \"Neutral\"\n",
    "    elif (rating == 2) or (rating == 1):\n",
    "        return \"Negative\"\n",
    "# Add sentiments to the data\n",
    "strat_train[\"Sentiment\"] = strat_train[\"reviews.rating\"].apply(sentiments)\n",
    "strat_test[\"Sentiment\"] = strat_test[\"reviews.rating\"].apply(sentiments)\n",
    "strat_train[\"Sentiment\"][:20]"
   ]
  },
  {
   "cell_type": "markdown",
   "metadata": {},
   "source": [
    "### Prepare data"
   ]
  },
  {
   "cell_type": "code",
   "execution_count": 32,
   "metadata": {},
   "outputs": [
    {
     "name": "stdout",
     "output_type": "stream",
     "text": [
      "4000 1000\n"
     ]
    }
   ],
   "source": [
    "\n",
    "##x\n",
    "X_train = strat_train[\"reviews.text\"]\n",
    "\n",
    "## y\n",
    "X_train_targetSentiment = strat_train[\"Sentiment\"]\n",
    "\n",
    "\n",
    "X_test = strat_test[\"reviews.text\"]\n",
    "\n",
    "X_test_targetSentiment = strat_test[\"Sentiment\"]\n",
    "\n",
    "print(len(X_train), len(X_test))"
   ]
  },
  {
   "cell_type": "markdown",
   "metadata": {},
   "source": [
    "### Replace \"nan\" with space"
   ]
  },
  {
   "cell_type": "code",
   "execution_count": 33,
   "metadata": {},
   "outputs": [],
   "source": [
    "\n",
    "\n",
    "X_train = X_train.fillna(' ')\n",
    "X_test = X_test.fillna(' ')\n",
    "\n",
    "\n",
    "\n",
    "X_train_targetSentiment = X_train_targetSentiment.fillna(' ')\n",
    "X_test_targetSentiment = X_test_targetSentiment.fillna(' ')\n"
   ]
  },
  {
   "cell_type": "markdown",
   "metadata": {},
   "source": [
    "### Text preprocessing and occurance counting"
   ]
  },
  {
   "cell_type": "code",
   "execution_count": 34,
   "metadata": {},
   "outputs": [
    {
     "data": {
      "text/plain": [
       "(4000, 4977)"
      ]
     },
     "execution_count": 34,
     "metadata": {},
     "output_type": "execute_result"
    }
   ],
   "source": [
    "\n",
    "count_vect = CountVectorizer()\n",
    "X_train_counts = count_vect.fit_transform(X_train) \n",
    "X_train_counts.shape"
   ]
  },
  {
   "cell_type": "code",
   "execution_count": 35,
   "metadata": {},
   "outputs": [
    {
     "data": {
      "text/plain": [
       "(4000, 4977)"
      ]
     },
     "execution_count": 35,
     "metadata": {},
     "output_type": "execute_result"
    }
   ],
   "source": [
    "\n",
    "tfidf_transformer = TfidfTransformer(use_idf=False)\n",
    "X_train_tfidf = tfidf_transformer.fit_transform(X_train_counts) ## y\n",
    "X_train_tfidf.shape"
   ]
  },
  {
   "cell_type": "markdown",
   "metadata": {},
   "source": [
    "# Building a Pipeline from the Extracted Features"
   ]
  },
  {
   "cell_type": "code",
   "execution_count": 36,
   "metadata": {},
   "outputs": [
    {
     "data": {
      "text/plain": [
       "Pipeline(steps=[('vect', CountVectorizer()), ('tfidf', TfidfTransformer()),\n",
       "                ('clf_nominalNB', MultinomialNB())])"
      ]
     },
     "execution_count": 36,
     "metadata": {},
     "output_type": "execute_result"
    }
   ],
   "source": [
    "\n",
    "clf_multiNB_pipe = Pipeline([(\"vect\", CountVectorizer()), (\"tfidf\", TfidfTransformer()), (\"clf_nominalNB\", MultinomialNB())])\n",
    "clf_multiNB_pipe.fit(X_train, X_train_targetSentiment)"
   ]
  },
  {
   "cell_type": "markdown",
   "metadata": {},
   "source": [
    "# Test Model"
   ]
  },
  {
   "cell_type": "code",
   "execution_count": 37,
   "metadata": {},
   "outputs": [
    {
     "data": {
      "text/plain": [
       "0.937"
      ]
     },
     "execution_count": 37,
     "metadata": {},
     "output_type": "execute_result"
    }
   ],
   "source": [
    "predictedMultiNB = clf_multiNB_pipe.predict(X_test)\n",
    "np.mean(predictedMultiNB == X_test_targetSentiment)"
   ]
  },
  {
   "cell_type": "code",
   "execution_count": 38,
   "metadata": {},
   "outputs": [
    {
     "data": {
      "text/plain": [
       "0.938"
      ]
     },
     "execution_count": 38,
     "metadata": {},
     "output_type": "execute_result"
    }
   ],
   "source": [
    "\n",
    "clf_logReg_pipe = Pipeline([(\"vect\", CountVectorizer()), (\"tfidf\", TfidfTransformer()), (\"clf_logReg\", LogisticRegression())])\n",
    "clf_logReg_pipe.fit(X_train, X_train_targetSentiment)\n",
    "\n",
    "\n",
    "predictedLogReg = clf_logReg_pipe.predict(X_test)\n",
    "np.mean(predictedLogReg == X_test_targetSentiment)"
   ]
  },
  {
   "cell_type": "markdown",
   "metadata": {},
   "source": [
    "# Testing Other Models"
   ]
  },
  {
   "cell_type": "markdown",
   "metadata": {},
   "source": [
    "**Logistic Regression Classifier**"
   ]
  },
  {
   "cell_type": "code",
   "execution_count": 39,
   "metadata": {},
   "outputs": [
    {
     "data": {
      "text/plain": [
       "0.938"
      ]
     },
     "execution_count": 39,
     "metadata": {},
     "output_type": "execute_result"
    }
   ],
   "source": [
    "\n",
    "\n",
    "clf_logReg_pipe = Pipeline([(\"vect\", CountVectorizer()), (\"tfidf\", TfidfTransformer()), (\"clf_logReg\", LogisticRegression())])\n",
    "clf_logReg_pipe.fit(X_train, X_train_targetSentiment)\n",
    "\n",
    "\n",
    "predictedLogReg = clf_logReg_pipe.predict(X_test)\n",
    "np.mean(predictedLogReg == X_test_targetSentiment)"
   ]
  },
  {
   "cell_type": "markdown",
   "metadata": {},
   "source": [
    "**Support Vector Machine Classifier**"
   ]
  },
  {
   "cell_type": "code",
   "execution_count": 40,
   "metadata": {},
   "outputs": [
    {
     "data": {
      "text/plain": [
       "0.948"
      ]
     },
     "execution_count": 40,
     "metadata": {},
     "output_type": "execute_result"
    }
   ],
   "source": [
    "\n",
    "clf_linearSVC_pipe = Pipeline([(\"vect\", CountVectorizer()), (\"tfidf\", TfidfTransformer()), (\"clf_linearSVC\", LinearSVC())])\n",
    "clf_linearSVC_pipe.fit(X_train, X_train_targetSentiment)\n",
    "\n",
    "predictedLinearSVC = clf_linearSVC_pipe.predict(X_test)\n",
    "np.mean(predictedLinearSVC == X_test_targetSentiment)"
   ]
  },
  {
   "cell_type": "markdown",
   "metadata": {},
   "source": [
    "**Random Forest Classifier**"
   ]
  },
  {
   "cell_type": "code",
   "execution_count": 41,
   "metadata": {},
   "outputs": [
    {
     "data": {
      "text/plain": [
       "0.948"
      ]
     },
     "execution_count": 41,
     "metadata": {},
     "output_type": "execute_result"
    }
   ],
   "source": [
    "\n",
    "clf_randomForest_pipe = Pipeline([(\"vect\", CountVectorizer()), (\"tfidf\", TfidfTransformer()), (\"clf_randomForest\", RandomForestClassifier())])\n",
    "clf_randomForest_pipe.fit(X_train, X_train_targetSentiment)\n",
    "\n",
    "predictedRandomForest = clf_randomForest_pipe.predict(X_test)\n",
    "np.mean(predictedRandomForest == X_test_targetSentiment)"
   ]
  },
  {
   "cell_type": "markdown",
   "metadata": {},
   "source": [
    "## Fine tuning the Support Vector Machine Classifier"
   ]
  },
  {
   "cell_type": "code",
   "execution_count": 42,
   "metadata": {},
   "outputs": [
    {
     "data": {
      "text/plain": [
       "Positive    NaN\n",
       "Neutral     NaN\n",
       "Neutral     NaN\n",
       "Name: Sentiment, dtype: object"
      ]
     },
     "execution_count": 42,
     "metadata": {},
     "output_type": "execute_result"
    }
   ],
   "source": [
    "\n",
    "parameters = {'vect__ngram_range': [(1, 1), (1, 2)],    \n",
    "             'tfidf__use_idf': (True, False), \n",
    "             } \n",
    "\n",
    "\n",
    "\n",
    "gs_clf_LinearSVC_pipe = GridSearchCV(clf_linearSVC_pipe, parameters, n_jobs=-1)\n",
    "gs_clf_LinearSVC_pipe = gs_clf_LinearSVC_pipe.fit(X_train, X_train_targetSentiment)\n",
    "\n",
    "\n",
    "\n",
    "new_text = [\"The tablet is good, really liked it.\", # positive\n",
    "            \"The tablet is ok, but it works fine.\", # neutral\n",
    "            \"The tablet is not good, does not work very well.\"] # negative\n",
    "\n",
    "X_train_targetSentiment[gs_clf_LinearSVC_pipe.predict(new_text)]"
   ]
  },
  {
   "cell_type": "code",
   "execution_count": 43,
   "metadata": {},
   "outputs": [
    {
     "data": {
      "text/plain": [
       "0.947"
      ]
     },
     "execution_count": 43,
     "metadata": {},
     "output_type": "execute_result"
    }
   ],
   "source": [
    "predictedGS_clf_LinearSVC_pipe = gs_clf_LinearSVC_pipe.predict(X_test)\n",
    "np.mean(predictedGS_clf_LinearSVC_pipe == X_test_targetSentiment)"
   ]
  },
  {
   "cell_type": "markdown",
   "metadata": {},
   "source": [
    "## Detailed Performance Analysis of Support Vector Machine Classifier"
   ]
  },
  {
   "cell_type": "code",
   "execution_count": 44,
   "metadata": {},
   "outputs": [
    {
     "name": "stdout",
     "output_type": "stream",
     "text": [
      "0.95075\n",
      "Pipeline(steps=[('vect', CountVectorizer(ngram_range=(1, 2))),\n",
      "                ('tfidf', TfidfTransformer()), ('clf_linearSVC', LinearSVC())])\n",
      "{'tfidf__use_idf': True, 'vect__ngram_range': (1, 2)}\n"
     ]
    }
   ],
   "source": [
    "for performance_analysis in (gs_clf_LinearSVC_pipe.best_score_, \n",
    "                             gs_clf_LinearSVC_pipe.best_estimator_, \n",
    "                             gs_clf_LinearSVC_pipe.best_params_):\n",
    "        print(performance_analysis)"
   ]
  },
  {
   "cell_type": "code",
   "execution_count": 45,
   "metadata": {},
   "outputs": [
    {
     "name": "stdout",
     "output_type": "stream",
     "text": [
      "              precision    recall  f1-score   support\n",
      "\n",
      "    Negative       1.00      0.29      0.45        24\n",
      "     Neutral       1.00      0.08      0.14        39\n",
      "    Positive       0.95      1.00      0.97       937\n",
      "\n",
      "    accuracy                           0.95      1000\n",
      "   macro avg       0.98      0.46      0.52      1000\n",
      "weighted avg       0.95      0.95      0.93      1000\n",
      "\n",
      "Accuracy: 0.947\n"
     ]
    }
   ],
   "source": [
    "\n",
    "print(classification_report(X_test_targetSentiment, predictedGS_clf_LinearSVC_pipe))\n",
    "print('Accuracy: {}'. format(accuracy_score(X_test_targetSentiment, predictedGS_clf_LinearSVC_pipe)))"
   ]
  },
  {
   "cell_type": "code",
   "execution_count": 46,
   "metadata": {},
   "outputs": [
    {
     "data": {
      "text/plain": [
       "array([[  7,   0,  17],\n",
       "       [  0,   3,  36],\n",
       "       [  0,   0, 937]], dtype=int64)"
      ]
     },
     "execution_count": 46,
     "metadata": {},
     "output_type": "execute_result"
    }
   ],
   "source": [
    "metrics.confusion_matrix(X_test_targetSentiment, predictedGS_clf_LinearSVC_pipe)"
   ]
  },
  {
   "cell_type": "code",
   "execution_count": null,
   "metadata": {},
   "outputs": [],
   "source": []
  },
  {
   "cell_type": "code",
   "execution_count": null,
   "metadata": {},
   "outputs": [],
   "source": []
  },
  {
   "cell_type": "code",
   "execution_count": null,
   "metadata": {},
   "outputs": [],
   "source": []
  },
  {
   "cell_type": "code",
   "execution_count": null,
   "metadata": {},
   "outputs": [],
   "source": []
  },
  {
   "cell_type": "code",
   "execution_count": null,
   "metadata": {},
   "outputs": [],
   "source": []
  }
 ],
 "metadata": {
  "kernelspec": {
   "display_name": "Python 3",
   "language": "python",
   "name": "python3"
  },
  "language_info": {
   "codemirror_mode": {
    "name": "ipython",
    "version": 3
   },
   "file_extension": ".py",
   "mimetype": "text/x-python",
   "name": "python",
   "nbconvert_exporter": "python",
   "pygments_lexer": "ipython3",
   "version": "3.7.7"
  }
 },
 "nbformat": 4,
 "nbformat_minor": 4
}
